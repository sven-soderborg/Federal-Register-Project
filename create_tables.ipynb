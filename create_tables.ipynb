{
 "cells": [
  {
   "cell_type": "code",
   "execution_count": 3,
   "metadata": {},
   "outputs": [],
   "source": [
    "import pandas as pd\n",
    "from pathlib import Path"
   ]
  },
  {
   "cell_type": "code",
   "execution_count": 7,
   "metadata": {},
   "outputs": [],
   "source": [
    "df = pd.read_csv(Path.home() / r\"Box\\Fed-Register\\final_rules_all_data.csv\")\n",
    "df['authors'] = df['authors'].apply(lambda x: eval(x) if isinstance(x, str) else x)\n",
    "df['regulation_id_numbers'] = df['regulation_id_numbers'].apply(lambda x: eval(x) if isinstance(x, str) else x)\n",
    "df['agencies'] = df['agencies'].apply(lambda x: eval(x) if isinstance(x, str) else x)"
   ]
  },
  {
   "cell_type": "markdown",
   "metadata": {},
   "source": [
    "# Replace publisher names in an attempt to normalize them"
   ]
  },
  {
   "cell_type": "code",
   "execution_count": 28,
   "metadata": {},
   "outputs": [],
   "source": [
    "publisher_counts = df['publisher'].value_counts()"
   ]
  },
  {
   "cell_type": "code",
   "execution_count": 29,
   "metadata": {},
   "outputs": [],
   "source": [
    "df2 = df.explode('authors')"
   ]
  },
  {
   "cell_type": "code",
   "execution_count": 31,
   "metadata": {},
   "outputs": [],
   "source": [
    "author_counts = df2['authors'].value_counts()"
   ]
  },
  {
   "cell_type": "code",
   "execution_count": 32,
   "metadata": {},
   "outputs": [],
   "source": [
    "auth_agencies = df2.explode('agencies')\n",
    "pub_agencies = df.explode('agencies')"
   ]
  },
  {
   "cell_type": "code",
   "execution_count": 33,
   "metadata": {},
   "outputs": [],
   "source": [
    "auth_agency = auth_agencies[['authors', 'agencies']].value_counts().reset_index()\n",
    "pub_agency = pub_agencies[['publisher', 'agencies']].value_counts().reset_index()"
   ]
  },
  {
   "cell_type": "code",
   "execution_count": null,
   "metadata": {},
   "outputs": [],
   "source": [
    "# Keep top 5 authors for each agency\n",
    "top_authors_per_agency = auth_agency.groupby('agencies').apply(lambda x: x.nlargest(5, 'count')).reset_index(drop=True)\n",
    "\n",
    "# Keep top 5 publishers for each agency\n",
    "top_publishers_per_agency = pub_agency.groupby('agencies').apply(lambda x: x.nlargest(5, 'count')).reset_index(drop=True)"
   ]
  },
  {
   "cell_type": "code",
   "execution_count": 34,
   "metadata": {},
   "outputs": [],
   "source": [
    "titles = df['title'].value_counts()"
   ]
  },
  {
   "cell_type": "code",
   "execution_count": 37,
   "metadata": {},
   "outputs": [],
   "source": [
    "dir = Path(r\"C:\\Users\\svens\\Box\\Fed-Register\\Tables\")\n",
    "with pd.ExcelWriter(dir / 'output.xlsx') as writer:\n",
    "    titles.iloc[:10].to_excel(writer, sheet_name='Titles')\n",
    "    author_counts.iloc[:10].to_excel(writer, sheet_name='Authors')\n",
    "    publisher_counts.iloc[:10].to_excel(writer, sheet_name='Publishers')\n",
    "    top_authors_per_agency.to_excel(writer, sheet_name='Authors_by_Agency')\n",
    "    top_publishers_per_agency.to_excel(writer, sheet_name='Publishers_by_Agency')"
   ]
  }
 ],
 "metadata": {
  "kernelspec": {
   "display_name": "data_analysis",
   "language": "python",
   "name": "python3"
  },
  "language_info": {
   "codemirror_mode": {
    "name": "ipython",
    "version": 3
   },
   "file_extension": ".py",
   "mimetype": "text/x-python",
   "name": "python",
   "nbconvert_exporter": "python",
   "pygments_lexer": "ipython3",
   "version": "3.12.4"
  }
 },
 "nbformat": 4,
 "nbformat_minor": 2
}
